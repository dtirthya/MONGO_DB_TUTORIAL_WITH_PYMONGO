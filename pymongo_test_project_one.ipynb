{
 "cells": [
  {
   "cell_type": "code",
   "execution_count": 1,
   "metadata": {},
   "outputs": [],
   "source": [
    "#Here we are importing MongoClient from PyMongo.\n",
    "from pymongo import MongoClient"
   ]
  },
  {
   "cell_type": "code",
   "execution_count": 2,
   "metadata": {},
   "outputs": [],
   "source": [
    "#Here we are creating an object.\n",
    "client = MongoClient()"
   ]
  },
  {
   "cell_type": "code",
   "execution_count": 3,
   "metadata": {},
   "outputs": [],
   "source": [
    "#Here we are choosing our database. Here we are connecting to the database named 'pracice_db_one'.\n",
    "db = client.practice_db_one"
   ]
  },
  {
   "cell_type": "code",
   "execution_count": 4,
   "metadata": {},
   "outputs": [
    {
     "data": {
      "text/plain": [
       "['test_collection']"
      ]
     },
     "execution_count": 4,
     "metadata": {},
     "output_type": "execute_result"
    }
   ],
   "source": [
    "#Here we are listing all the collections available in our database.\n",
    "db.list_collection_names()"
   ]
  },
  {
   "cell_type": "code",
   "execution_count": 5,
   "metadata": {},
   "outputs": [],
   "source": [
    "#Here we are choosing our collection named as 'test_collection'.\n",
    "first_collection = db.test_collection"
   ]
  },
  {
   "cell_type": "code",
   "execution_count": 6,
   "metadata": {},
   "outputs": [],
   "source": [
    "#Here we are importing pprint to print our data in JSON format.\n",
    "import pprint"
   ]
  },
  {
   "cell_type": "code",
   "execution_count": 7,
   "metadata": {},
   "outputs": [
    {
     "name": "stdout",
     "output_type": "stream",
     "text": [
      "{'DEPARTMENT': 'BCA',\n",
      " 'NAME': 'TIRTHYA KAMAL DASGUPTA',\n",
      " 'ROLL NUMBER': '57',\n",
      " '_id': ObjectId('5dcd962ca6a1b9786a4398fc')}\n"
     ]
    }
   ],
   "source": [
    "#Here we are print the first document of 'test_collection'.\n",
    "pprint.pprint(first_collection.find_one())"
   ]
  },
  {
   "cell_type": "code",
   "execution_count": 8,
   "metadata": {},
   "outputs": [
    {
     "name": "stdout",
     "output_type": "stream",
     "text": [
      "{'DEPARTMENT': 'BCA',\n",
      " 'NAME': 'TIRTHYA KAMAL DASGUPTA',\n",
      " 'ROLL NUMBER': '57',\n",
      " '_id': ObjectId('5dcd962ca6a1b9786a4398fc')}\n",
      "{'DEPARTMENT': 'BCA',\n",
      " 'NAME': 'SUVANKAR MAIKAP',\n",
      " 'ROLL NUMBER': '54',\n",
      " '_id': ObjectId('5dcd9898a6a1b9786a4398fd')}\n"
     ]
    }
   ],
   "source": [
    "#Here we are iterating over all of the documents in our collection one by one and printing them. \n",
    "for i in first_collection.find():\n",
    "    pprint.pprint(i)"
   ]
  },
  {
   "cell_type": "markdown",
   "metadata": {},
   "source": [
    "# OPTIONAL (FOR ANALYTICAL PART)"
   ]
  },
  {
   "cell_type": "markdown",
   "metadata": {},
   "source": [
    "# TO CONVERT THE DOCUMENTS OF OUR COLLECTION INTO A PANDAS DATAFRAME AND DISPLAYING IT"
   ]
  },
  {
   "cell_type": "code",
   "execution_count": 9,
   "metadata": {},
   "outputs": [],
   "source": [
    "#Here we are importing pandas as pd. \n",
    "import pandas as pd"
   ]
  },
  {
   "cell_type": "code",
   "execution_count": 10,
   "metadata": {},
   "outputs": [],
   "source": [
    "#Here we are storing the documents in a list and convert the list into a dataframe.  \n",
    "df = pd.DataFrame(list(first_collection.find()))"
   ]
  },
  {
   "cell_type": "code",
   "execution_count": 11,
   "metadata": {},
   "outputs": [
    {
     "name": "stdout",
     "output_type": "stream",
     "text": [
      "                        _id                    NAME DEPARTMENT ROLL NUMBER\n",
      "0  5dcd962ca6a1b9786a4398fc  TIRTHYA KAMAL DASGUPTA        BCA          57\n",
      "1  5dcd9898a6a1b9786a4398fd         SUVANKAR MAIKAP        BCA          54\n"
     ]
    }
   ],
   "source": [
    "#We are printing the dataframe.\n",
    "print(df)"
   ]
  },
  {
   "cell_type": "code",
   "execution_count": null,
   "metadata": {},
   "outputs": [],
   "source": []
  }
 ],
 "metadata": {
  "kernelspec": {
   "display_name": "Python 3",
   "language": "python",
   "name": "python3"
  },
  "language_info": {
   "codemirror_mode": {
    "name": "ipython",
    "version": 3
   },
   "file_extension": ".py",
   "mimetype": "text/x-python",
   "name": "python",
   "nbconvert_exporter": "python",
   "pygments_lexer": "ipython3",
   "version": "3.7.4"
  }
 },
 "nbformat": 4,
 "nbformat_minor": 2
}
